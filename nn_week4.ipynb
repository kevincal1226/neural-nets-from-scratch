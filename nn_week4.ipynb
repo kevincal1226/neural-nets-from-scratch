{
  "nbformat": 4,
  "nbformat_minor": 0,
  "metadata": {
    "colab": {
      "provenance": []
    },
    "kernelspec": {
      "name": "python3",
      "display_name": "Python 3"
    },
    "language_info": {
      "name": "python"
    }
  },
  "cells": [
    {
      "cell_type": "code",
      "execution_count": null,
      "metadata": {
        "id": "eAQFzY_V8WG6"
      },
      "outputs": [],
      "source": [
        "import numpy as np\n",
        "import pandas as pd"
      ]
    },
    {
      "cell_type": "code",
      "source": [
        "df = pd.read_csv('https://raw.githubusercontent.com/lukeyang01/nn-from-scratch/main/week2_data.csv')\n",
        "\n",
        "inputs = np.array(df.iloc[:, 0:2])\n",
        "labels = np.array(df.iloc[:, 2])"
      ],
      "metadata": {
        "id": "jqtpz4LKlx1w"
      },
      "execution_count": null,
      "outputs": []
    },
    {
      "cell_type": "code",
      "source": [
        "def sigmoid(x: int) -> float:\n",
        "  \"\"\"Sigmoid activation function.\"\"\"\n",
        "  return 1 / (1 + np.exp(-x))\n",
        "\n",
        "def sigmoid_back(x: int) -> float:\n",
        "  \"\"\"Derivative of sigmoid for backward calculation.\"\"\"\n",
        "  fwd = sigmoid(x)\n",
        "  return fwd * (1-fwd)"
      ],
      "metadata": {
        "id": "EEKMVgCxlMu-"
      },
      "execution_count": null,
      "outputs": []
    },
    {
      "cell_type": "code",
      "source": [
        "class MLP:\n",
        "  \"\"\"A Neural Network Class to Perform Basic Feedforward algorithm and training\"\"\"\n",
        "  def __init__(self, sizes: list):\n",
        "    \"\"\"Initialize a numpy array or a list of weights an array or list of weights depending on sizes\"\"\"\n",
        "    self.sizes = sizes\n",
        "    self.num_layers = len(sizes)\n",
        "    self.weights = []\n",
        "    self.biases = []\n",
        "\n",
        "    self.__init_params()\n",
        "    return\n",
        "\n",
        "  def __init_params(self):\n",
        "    \"\"\"Initialize random weights and biases based on size parameters.\"\"\"\n",
        "    for i in range(1, self.num_layers):\n",
        "        # X inputs -> Y Ouputs\n",
        "        in_size = self.sizes[i-1]\n",
        "        out_size = self.sizes[i]\n",
        "\n",
        "        # weights.shape = (Y, X), biases.shape = (Y, 1)\n",
        "        # e.g. 2 -> 3: weights is (2, 3), biases is (1, 3)\n",
        "        self.weights.append(np.random.randn(out_size, in_size) * 0.1)\n",
        "        self.biases.append(np.random.randn(out_size, 1) * 0.1)\n",
        "\n",
        "  def forward(self, x: np.ndarray):\n",
        "    \"\"\"\n",
        "      Perform feedforward algorithm on input vector for all layers\n",
        "\n",
        "      Input:    x: np.ndarray with shape (1, self.sizes[0])\n",
        "\n",
        "      Returns:  y: np.ndarray with shape (1, self.sizes[-1])\n",
        "    \"\"\"\n",
        "    # x = x.reshape(self.sizes[0], 1)\n",
        "\n",
        "    zs = []\n",
        "    activations = [x]\n",
        "\n",
        "    # Store inner layers for backward calculation (?)\n",
        "    for i in range(self.num_layers-1):\n",
        "      x = np.matmul(self.weights[i], x) + self.biases[i]\n",
        "      zs.append(x)\n",
        "      x = sigmoid(x)\n",
        "      activations.append(x)\n",
        "\n",
        "\n",
        "    return x, activations, zs\n",
        "\n",
        "  def backward(self, x, y):\n",
        "    \"\"\"Perform backpropagation using the input and expected output to get weight and vector deltas\"\"\"\n",
        "\n",
        "    delta_b = [np.zeros(b.shape) for b in self.biases]\n",
        "    delta_w = [np.zeros(w.shape) for w in self.weights]\n",
        "\n",
        "    output, activations, zs = self.forward(x)\n",
        "    delta = (output - y) *  sigmoid_back(zs[-1])\n",
        "\n",
        "    # Back Prop on output layer\n",
        "    delta_w[-1] = np.matmul(delta, activations[-2].T)\n",
        "    delta_b[-1] = delta\n",
        "\n",
        "    for idx in range(2, self.num_layers):\n",
        "      z = zs[-idx]\n",
        "      sp = sigmoid_back(z)\n",
        "      delta = np.matmul(self.weights[-idx + 1].T, delta) * sp\n",
        "      delta_b[-idx] = delta\n",
        "      delta_w[-idx] = np.matmul(delta, activations[-idx - 1].T)\n",
        "\n",
        "    return delta_w, delta_b\n",
        "\n",
        "  def train(self, X_train, y_train, epochs=1, lr=0.01, batch_size=1, verbose=True):\n",
        "    \"\"\"Using forward and backward functions, fit the model on an entire training step using gradient descent algorithm.\"\"\"\n",
        "    for x in X_train:\n",
        "      delta_w, delta_b = self.backward(x.reshape((2, 1)), np.array([0.5, 0.5]).reshape((2, 1)))\n",
        "      for i in range(len(self.weights)):\n",
        "        self.weights[i] -= delta_w[i]\n",
        "        self.biases[i] -= delta_b[i]\n",
        "    print(self.forward(inputs[10].reshape((2,1)))[0])"
      ],
      "metadata": {
        "id": "kTAMUv0r8sIP"
      },
      "execution_count": null,
      "outputs": []
    },
    {
      "cell_type": "code",
      "source": [
        "def main():\n",
        "  nn = MLP([2, 3, 2])\n",
        "  nn.train(inputs, labels)"
      ],
      "metadata": {
        "id": "v_FfESHQ9yEt"
      },
      "execution_count": null,
      "outputs": []
    },
    {
      "cell_type": "code",
      "source": [
        "main()"
      ],
      "metadata": {
        "id": "JfXnBZHHse_p",
        "colab": {
          "base_uri": "https://localhost:8080/"
        },
        "outputId": "9774b02a-63ee-4583-c0d9-b0b6571badc7"
      },
      "execution_count": null,
      "outputs": [
        {
          "output_type": "stream",
          "name": "stdout",
          "text": [
            "[[0.50432868]\n",
            " [0.50802512]]\n"
          ]
        }
      ]
    },
    {
      "cell_type": "code",
      "source": [],
      "metadata": {
        "id": "UN-GskfktKDt"
      },
      "execution_count": null,
      "outputs": []
    }
  ]
}